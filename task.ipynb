{
 "cells": [
  {
   "cell_type": "code",
   "execution_count": 9,
   "metadata": {},
   "outputs": [
    {
     "name": "stderr",
     "output_type": "stream",
     "text": [
      "FF\n",
      "======================================================================\n",
      "FAIL: test_1 (__main__.EmployeeTest)\n",
      "----------------------------------------------------------------------\n",
      "Traceback (most recent call last):\n",
      "  File \"C:\\Users\\Pc\\AppData\\Local\\Temp\\ipykernel_5708\\922420721.py\", line 27, in test_1\n",
      "    self.assertEqual(emplo2.get_email(), 'Li.Cha@gmail.com')\n",
      "AssertionError: 'Lui.Cha@gmail.com' != 'Li.Cha@gmail.com'\n",
      "- Lui.Cha@gmail.com\n",
      "?  -\n",
      "+ Li.Cha@gmail.com\n",
      "\n",
      "\n",
      "======================================================================\n",
      "FAIL: test_2 (__main__.EmployeeTest)\n",
      "----------------------------------------------------------------------\n",
      "Traceback (most recent call last):\n",
      "  File \"C:\\Users\\Pc\\AppData\\Local\\Temp\\ipykernel_5708\\922420721.py\", line 32, in test_2\n",
      "    self.assertEqual(emplo1.get_email(), 'Ahsa.Bilal@gmail.com')\n",
      "AssertionError: 'Ahsan.Bilal@gmail.com' != 'Ahsa.Bilal@gmail.com'\n",
      "- Ahsan.Bilal@gmail.com\n",
      "?     -\n",
      "+ Ahsa.Bilal@gmail.com\n",
      "\n",
      "\n",
      "----------------------------------------------------------------------\n",
      "Ran 2 tests in 0.006s\n",
      "\n",
      "FAILED (failures=2)\n"
     ]
    },
    {
     "ename": "SystemExit",
     "evalue": "True",
     "output_type": "error",
     "traceback": [
      "An exception has occurred, use %tb to see the full traceback.\n",
      "\u001b[1;31mSystemExit\u001b[0m\u001b[1;31m:\u001b[0m True\n"
     ]
    },
    {
     "name": "stderr",
     "output_type": "stream",
     "text": [
      "c:\\Users\\Pc\\miniconda3\\envs\\tf\\lib\\site-packages\\IPython\\core\\interactiveshell.py:3516: UserWarning: To exit: use 'exit', 'quit', or Ctrl-D.\n",
      "  warn(\"To exit: use 'exit', 'quit', or Ctrl-D.\", stacklevel=1)\n"
     ]
    }
   ],
   "source": [
    "import unittest\n",
    "\n",
    "\n",
    "\n",
    "class Employee():\n",
    "    raise_mat = 7\n",
    "    def __init__(self, first , last, pay):\n",
    "        self.first = first\n",
    "        self.last = last\n",
    "        self.pay = pay\n",
    "\n",
    "    def get_email(self):\n",
    "        return '{}.{}@gmail.com'.format(self.first,  self.last)\n",
    "    \n",
    "    def full_name(self):\n",
    "        return '{} {}'.format(self.first , self.last)\n",
    "    \n",
    "    def apply_raise(self):\n",
    "        return self.pay * self.raise_mat\n",
    "    \n",
    "class EmployeeTest(unittest.TestCase):\n",
    "\n",
    "    def test_1(self):\n",
    "        emplo1 = Employee('Ahsan', 'Bilal', 50000)\n",
    "        emplo2 = Employee('Lui', 'Cha', 100)\n",
    "        self.assertEqual(emplo1.get_email(), 'Ahsan.Bilal@gmail.com')\n",
    "        self.assertEqual(emplo2.get_email(), 'Lui.Cha@gmail.com')\n",
    "\n",
    "    def test_2(self):\n",
    "        emplo1 = Employee('Ahsan', 'Bilal', 50000)\n",
    "        emplo2 = Employee('Lui', 'Cha', 100)\n",
    "        self.assertEqual(emplo1.get_email(), 'Ahsan.Bilal@gmail.com')\n",
    "        self.assertEqual(emplo2.get_email(), 'Lui.Cha@gmail.com')\n",
    "\n",
    "\n",
    "\n",
    "# test = EmployeeTest()\n",
    "if __name__ == '__main__':\n",
    "    unittest.main(argv=[''])"
   ]
  },
  {
   "cell_type": "code",
   "execution_count": null,
   "metadata": {},
   "outputs": [],
   "source": []
  }
 ],
 "metadata": {
  "kernelspec": {
   "display_name": "tf",
   "language": "python",
   "name": "python3"
  },
  "language_info": {
   "codemirror_mode": {
    "name": "ipython",
    "version": 3
   },
   "file_extension": ".py",
   "mimetype": "text/x-python",
   "name": "python",
   "nbconvert_exporter": "python",
   "pygments_lexer": "ipython3",
   "version": "3.9.16"
  }
 },
 "nbformat": 4,
 "nbformat_minor": 2
}
